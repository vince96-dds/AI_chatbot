{
 "cells": [
  {
   "cell_type": "code",
   "execution_count": null,
   "metadata": {},
   "outputs": [],
   "source": [
    "import re\n",
    "import random\n",
    "\n",
    "class RuleBot:\n",
    "  ### potential negative responses\n",
    "  negative_responses = (\"no\", \"nope\", \"nah\", \"no chance\", \"no shot\", \"sorry\")\n",
    "  ### exit conservation keywords\n",
    "  exit_commands = (\"quit\", \"goodbye\", \"peace\", \"bye\", \"later\", \"exit\",\" i got to go\", \"gtg\")\n",
    "  ###\n",
    "  current_activity = (\"playing a game\", \"watching a movie\", \"watching a show\") # etc etc etc\n",
    "\n",
    "  def greet(self):\n",
    "    self.name = input(\"Hey! What's your name?\")\n",
    "    desire_to_chat = input(\n",
    "        f\"Hey {self.name}, I'm a rule-based chatbot. Would you like to chat with me today?\")\n",
    "    if desire_to_chat in self.negative_responses:\n",
    "      print(\"No problem, take care! 👋\")\n",
    "      return\n",
    "    self.chat()\n",
    "\n",
    "  def make_exit(self, reply):\n",
    "    for command in self.exit_commands:\n",
    "      if reply == command:\n",
    "        print(\"Alright, let's talk again soon!\")\n",
    "        return True\n",
    "\n",
    "  def chat(self):\n",
    "    chat_input = input(\n",
    "        f\"Okay {self.name}, what are you up to right now?\")\n",
    "    if chat_input in self.current_activity:\n",
    "      print(\"entered chat function, exiting program\")\n",
    "      return\n",
    "    else:\n",
    "      print(\"Sorry, I don't know about that!\")\n",
    "      return\n",
    "\n",
    "  def match_reply(reply):\n",
    "    for key, value in self.XXX.items():\n",
    "      intent = key\n",
    "      regex_pattern = value\n",
    "      found_match = re.match(regex_pattern, reply)\n",
    "\n",
    "chatbot = RuleBot()\n",
    "chatbot.greet()"
   ]
  }
 ],
 "metadata": {
  "language_info": {
   "name": "python"
  },
  "orig_nbformat": 4
 },
 "nbformat": 4,
 "nbformat_minor": 2
}
